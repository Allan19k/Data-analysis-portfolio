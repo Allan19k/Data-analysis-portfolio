{
  "nbformat": 4,
  "nbformat_minor": 0,
  "metadata": {
    "colab": {
      "provenance": []
    },
    "kernelspec": {
      "name": "python3",
      "display_name": "Python 3"
    },
    "language_info": {
      "name": "python"
    }
  },
  "cells": [
    {
      "cell_type": "markdown",
      "source": [
        "# **Análisis Estadístico en Python**\n",
        "Este notebook contiene una práctica básica de **estadística descriptiva** utilizando el módulo estándar `statistics` de Python. Se trabaja sobre una lista de datos para calcular medidas como:\n",
        "\n",
        "- Media\n",
        "- Mediana\n",
        "- Moda\n",
        "- Desviación estándar\n",
        "- Varianza\n",
        "- Cuartiles (Q1, Q2, Q3)\n",
        "\n",
        "El objetivo es aplicar funciones estadísticas fundamentales para familiarizarse con su uso en análisis de datos, sin necesidad de librerías externas como NumPy o pandas. Es un ejercicio ideal para quienes inician en análisis de datos con Python y desean entender cómo obtener **resúmenes estadísticos clave** de manera sencilla.\n",
        "\n",
        "👉 Ideal como primer paso antes de usar bibliotecas más avanzadas como `pandas` o `scikit-learn`.\n",
        "\n"
      ],
      "metadata": {
        "id": "Nv3uABa6Wm1P"
      }
    },
    {
      "cell_type": "code",
      "execution_count": 1,
      "metadata": {
        "id": "KsGqlCXkVbiq"
      },
      "outputs": [],
      "source": [
        "# libreria de python\n",
        "import statistics"
      ]
    },
    {
      "cell_type": "markdown",
      "source": [
        "**1º Calcular la media (promedio)**\n",
        "\n",
        "Se obtiene sumando todos los valores y dividiendo dicha suma por el número de valores que tenemos"
      ],
      "metadata": {
        "id": "2nUlA-7SXqwH"
      }
    },
    {
      "cell_type": "code",
      "source": [
        "# en este caso decidi usar como ejemplo, mis calificaciones finales del semestre Ene-Junio 2025\n",
        "calificaciones = [9.97, 7.03, 9.19, 9.36, 9.02, 9.82]\n",
        "promedio= statistics.mean(calificaciones)\n",
        "# redondearlo a 2 decimales\n",
        "promedio= round(promedio,2)\n",
        "print(\"Calificaciones del semestre Enero-Julio del 2025: \", \"[9.97, 7.03, 9.19, 9.36, 9.02, 9.82]\")\n",
        "print(\"Promedio general del semestre Enero-Juio del 2025:\",promedio)"
      ],
      "metadata": {
        "colab": {
          "base_uri": "https://localhost:8080/"
        },
        "id": "KXICgwLEYWMM",
        "outputId": "a23354ad-fbe1-49f1-d7a6-3fa3840c39b2"
      },
      "execution_count": 15,
      "outputs": [
        {
          "output_type": "stream",
          "name": "stdout",
          "text": [
            "Calificaciones del semestre Enero-Julio del 2025:  [9.97, 7.03, 9.19, 9.36, 9.02, 9.82]\n",
            "Promedio general del semestre Enero-Juio del 2025: 9.06\n"
          ]
        }
      ]
    },
    {
      "cell_type": "markdown",
      "source": [
        "**2º Calcular la mediana**\n",
        "\n",
        "Es el valor central de un conjunto de datos ordenados de menor a mayor, donde la mitad de los datos están por encima y la otra mitad por debajo\n",
        "\n",
        "\n",
        "¿Cómo se calcula?\n",
        "\n",
        "  \n",
        "\n",
        "1.  Ordenar los datos: Primero, se deben ordenar los datos de menor a mayor.\n",
        "2.  Número impar de datos: Si hay un número impar de datos, la mediana es el dato que se encuentra en el centro de la lista ordenada.\n",
        "3. Número par de datos: Si hay un número par de datos, la mediana es el promedio de los dos datos centrales.\n",
        "\n",
        "\n",
        "Ejemplos:\n",
        "\n",
        "    Datos impares: 1, 3, 5, 7, 9. La mediana es 5.\n",
        "\n",
        "    Datos pares: 2, 4, 6, 8. La mediana es (4 + 6) / 2 = 5.\n",
        "\n",
        "\n",
        "  \n",
        "  \n",
        "    \n",
        "  \n"
      ],
      "metadata": {
        "id": "18vFXOZ0biR3"
      }
    },
    {
      "cell_type": "code",
      "source": [
        "mediana= [1, 6, 11, 17, 39, 49, 50, 51, 57, 69, 76, 80, 84, 94, 98]\n",
        "mediana= statistics.median(mediana)\n",
        "print(\"Datos: \", \"[1, 6, 11, 17, 39, 49, 50, 51, 57, 69, 76, 80, 84, 94, 98]\")\n",
        "print(\"Mediana:\", mediana)"
      ],
      "metadata": {
        "colab": {
          "base_uri": "https://localhost:8080/"
        },
        "id": "08zNey1ocX0n",
        "outputId": "aa68560c-e540-4088-903d-0f0de5650e26"
      },
      "execution_count": 16,
      "outputs": [
        {
          "output_type": "stream",
          "name": "stdout",
          "text": [
            "Datos:  [1, 6, 11, 17, 39, 49, 50, 51, 57, 69, 76, 80, 84, 94, 98]\n",
            "Mediana: 51\n"
          ]
        }
      ]
    },
    {
      "cell_type": "markdown",
      "source": [
        "**3º Calcular la Moda**\n",
        "\n",
        "Es el valor que aparece con mayor frecuencia en un conjunto de datos"
      ],
      "metadata": {
        "id": "axoZa3k2fXYT"
      }
    },
    {
      "cell_type": "code",
      "source": [
        "moda = [1, 2, 2, 3, 4, 4, 4, 5]\n",
        "moda = statistics.mode(moda)\n",
        "print(\"Datos: \", \"[1, 2, 2, 3, 4, 4, 4, 5]\")\n",
        "print(\"Moda:\", moda)"
      ],
      "metadata": {
        "colab": {
          "base_uri": "https://localhost:8080/"
        },
        "id": "KCZpyO7GfarQ",
        "outputId": "bed4c69c-96b9-4ebf-9534-6b084a18cf6c"
      },
      "execution_count": 17,
      "outputs": [
        {
          "output_type": "stream",
          "name": "stdout",
          "text": [
            "Datos:  [1, 2, 2, 3, 4, 4, 4, 5]\n",
            "Moda: 4\n"
          ]
        }
      ]
    },
    {
      "cell_type": "markdown",
      "source": [
        "**4º Calcular la varianza**\n",
        "\n",
        "La varianza estadística es una medida que indica la dispersión de un conjunto de datos con respecto a su media. Es decir, mide cuánto se alejan los valores individuales de la media, en promedio. Cuanto mayor sea la varianza, más dispersos estarán los datos.\n",
        "\n",
        "\n",
        "Para una muestra, la varianza se calcula como:\n",
        "s² = Σ ( xᵢ - x̄ )² / (n - 1) donde:\n",
        "\n",
        "          Σ es la sumatoria (la suma de todos los valores que se evalúan)\n",
        "          s² es la varianza de la muestra.\n",
        "          xᵢ es el valor individual de la i-ésima observación.\n",
        "          x̄ es la media de la muestra.\n",
        "          n es el tamaño de la muestra.\n",
        "\n",
        "\n",
        "Supongamos que tenemos los siguientes datos: 2, 4, 6, 8, 10.\n",
        "\n",
        "    Calculamos la media: (2 + 4 + 6 + 8 + 10) / 5 = 6\n",
        "    Calculamos la varianza:\n",
        "        (2 - 6)² = 16\n",
        "        (4 - 6)² = 4\n",
        "        (6 - 6)² = 0\n",
        "        (8 - 6)² = 4\n",
        "        (10 - 6)² = 16\n",
        "        (16 + 4 + 0 + 4 + 16) / (5 - 1) = 40 / 4 = 10\n",
        "\n",
        "La varianza de estos datos es 10\n",
        "\n",
        "\n"
      ],
      "metadata": {
        "id": "fm0vp8yjiUIU"
      }
    },
    {
      "cell_type": "code",
      "source": [
        "varianza= [1, 8, 15, 17, 39, 45, 50, 51, 63, 69, 70, 81, 84, 94, 100]\n",
        "varianza= statistics.variance(varianza)\n",
        "print(\"Datos: \", \"[1, 8, 15, 17, 39, 45, 50, 51, 63, 69, 70, 81, 84, 94, 100]\")\n",
        "print(\"Varianza:\", varianza)"
      ],
      "metadata": {
        "colab": {
          "base_uri": "https://localhost:8080/"
        },
        "id": "J7m8ziPkiBqI",
        "outputId": "c7b1787d-1da8-4eac-b547-a9ca0ab608e8"
      },
      "execution_count": 20,
      "outputs": [
        {
          "output_type": "stream",
          "name": "stdout",
          "text": [
            "Datos:  [1, 8, 15, 17, 39, 45, 50, 51, 63, 69, 70, 81, 84, 94, 100]\n",
            "Varianza: 1001.2666666666667\n"
          ]
        }
      ]
    },
    {
      "cell_type": "markdown",
      "source": [
        "**5º Calcular la desviación estandar**\n",
        "\n",
        "Es una medida estadística que describe la dispersión de un conjunto de datos en relación con su media. Indica la cantidad promedio que los datos se desvían de la media. En términos sencillos, mide la variabilidad de los datos.\n",
        "\n",
        "La fórmula para calcular la desviación estándar de una muestra (desviación estándar muestral) es: s = √(∑(xᵢ - x̄)² / (n-1))\n",
        "\n",
        "donde:\n",
        "\n",
        "    s es la desviación estándar de la muestra.\n",
        "    xᵢ es cada valor individual en la muestra.\n",
        "    x̄ es la media de la muestra.\n",
        "    n es el tamaño de la muestra (el número total de valores en la muestra).\n",
        "    ∑ representa la suma de los valores dentro del paréntesis.\n",
        "\n",
        "\n",
        "Pasos para calcular la desviación estándar muestral:\n",
        "\n",
        "\n",
        "*  Calcula la media de la muestra (x̄): Suma todos los valores de la muestra y divídela por el tamaño de la muestra (n).\n",
        "*  Calcula la diferencia al cuadrado entre cada valor y la media (xᵢ - x̄)²: Resta la media de cada valor individual y eleva el resultado al cuadrado.\n",
        "*   Suma todos los resultados del paso anterior: Suma los valores cuadrados obtenidos en el paso 2.\n",
        "*   Divide la suma por el tamaño de la muestra menos uno (n-1): Divide la suma total de los cuadrados por (n-1).\n",
        "*   Extrae la raíz cuadrada del resultado del paso anterior: Calcula la raíz cuadrada del resultado obtenido en el paso 4. Este resultado es la desviación estándar muestral.\n",
        "\n",
        "\n",
        "Ejemplo:\n",
        "Supongamos que tenemos la siguiente muestra de datos: {2, 4, 6, 8, 10}\n",
        "\n",
        "    Media: (2 + 4 + 6 + 8 + 10) / 5 = 6\n",
        "    Diferencias: {2-6, 4-6, 6-6, 8-6, 10-6} = {-4, -2, 0, 2, 4}\n",
        "    Cuadrados de las diferencias: {16, 4, 0, 4, 16}\n",
        "    Suma de los cuadrados: 16 + 4 + 0 + 4 + 16 = 40\n",
        "    Dividir entre (n-1): 40 / (5-1) = 40 / 4 = 10\n",
        "    Raíz cuadrada: √10 ≈ 3.16\n",
        "\n",
        "Por lo tanto, la desviación estándar de la muestra es aproximadamente 3.16\n"
      ],
      "metadata": {
        "id": "Cqb2wQCcm3X4"
      }
    },
    {
      "cell_type": "code",
      "source": [
        "desvi_estandar= [1, 8, 15, 17, 39, 45, 50, 51, 63, 69, 70, 81, 84, 94, 100]\n",
        "desvi_estandar= statistics.stdev(desvi_estandar)\n",
        "print(\"Datos: \", \"[1, 8, 15, 17, 39, 45, 50, 51, 63, 69, 70, 81, 84, 94, 100]\")\n",
        "print(\"Desviación Estandar:\", desvi_estandar)"
      ],
      "metadata": {
        "colab": {
          "base_uri": "https://localhost:8080/"
        },
        "id": "mWSyllb0o4oy",
        "outputId": "7e8af970-7347-4dc2-86f3-1660d7107779"
      },
      "execution_count": 21,
      "outputs": [
        {
          "output_type": "stream",
          "name": "stdout",
          "text": [
            "Datos:  [1, 8, 15, 17, 39, 45, 50, 51, 63, 69, 70, 81, 84, 94, 100]\n",
            "Desviación Estandar: 31.642798022088165\n"
          ]
        }
      ]
    },
    {
      "cell_type": "markdown",
      "source": [
        "**6º Calcular los cuartiles**\n",
        "\n",
        " Los cuartiles son valores que dividen un conjunto de datos ordenados en cuatro partes iguales. Son medidas de posición que ayudan a entender la distribución de los datos y cómo se dispersan\n",
        "\n",
        "\n",
        "Definición:\n",
        "\n",
        "*   Cuartiles: Son tres valores (Q1, Q2, Q3) que dividen un conjunto de datos ordenados de menor a mayor en cuatro partes iguales.\n",
        "*   Q1 (Primer Cuartil): El valor que deja el 25% de los datos por debajo de él.\n",
        "* Q2 (Segundo Cuartil): El valor que coincide con la mediana, dejando el 50% de los datos por debajo de él.\n",
        "* Q3 (Tercer Cuartil): El valor que deja el 75% de los datos por debajo de él.\n",
        "\n",
        "\n",
        "Calculo:\n",
        "\n",
        "    Ordenar los datos: Se deben ordenar los datos de menor a mayor.\n",
        "\n",
        "    Calcular la posición de cada cuartil:\n",
        "\n",
        "    - Q1: (N+1)/4, donde N es el número total de datos.\n",
        "    - Q2: (N+1)/2, donde N es el número total de datos.\n",
        "    - Q3: 3(N+1)/4, donde N es el número total de datos.\n",
        "\n",
        "Si la posición es un número entero: El valor del cuartil será el dato que se encuentra en esa posición.\n",
        "\n",
        "Si la posición es un número decimal: Se debe interpolar linealmente entre los dos datos cercanos.\n",
        "\n",
        "Interpretación:\n",
        "\n",
        "    Q1: Indica que el 25% de los datos son menores o iguales a este valor.\n",
        "    Q2: Indica que el 50% de los datos son menores o iguales a este valor (mediana).\n",
        "    Q3: Indica que el 75% de los datos son menores o iguales a este valor.\n",
        "\n",
        "\n",
        "Ejemplo:\n",
        "Considera el siguiente conjunto de datos: 1, 2, 3, 4, 5, 6, 7, 8, 9, 10.\n",
        "\n",
        "    Q1: (10+1)/4 = 2.75, Q1 = 3 (interpolar entre 2 y 3).\n",
        "    Q2 (mediana): (10+1)/2 = 5.5, Q2 = 6 (interpolar entre 5 y 6).\n",
        "    Q3: 3(10+1)/4 = 8.25, Q3 = 8 (interpolar entre 8 y 9).\n",
        "\n",
        "\n"
      ],
      "metadata": {
        "id": "30JyDbez1Zd_"
      }
    },
    {
      "cell_type": "code",
      "source": [
        "cuartiles= [1, 8, 15, 17, 39, 45, 50, 51, 63, 69, 70, 81, 84, 94, 100]\n",
        "# calcular los cuartiles\n",
        "cuartiles= statistics.quantiles(cuartiles,n=4)\n",
        "q1= cuartiles[0]\n",
        "q2= cuartiles[1] # tambien se puede calcular directamente usando median -> q2= statistics.median(cuartiles)\n",
        "q3= cuartiles[2] # tambien se puede usar [-1] ya que este accede a la última elemento de la lista, que es Q3\n",
        "print(\"Datos: \", \"[1, 8, 15, 17, 39, 45, 50, 51, 63, 69, 70, 81, 84, 94, 100]\")\n",
        "print(\"Primer cuartil Q1:\", q1)\n",
        "print(\"Segundo cuartil Q2:\", q2)\n",
        "print(\"Tercer cuartil Q3:\", q3)"
      ],
      "metadata": {
        "colab": {
          "base_uri": "https://localhost:8080/"
        },
        "id": "iUHAXumlOgsO",
        "outputId": "d6ae7d55-1714-4131-ea85-577a86ddff86"
      },
      "execution_count": 30,
      "outputs": [
        {
          "output_type": "stream",
          "name": "stdout",
          "text": [
            "Datos:  [1, 8, 15, 17, 39, 45, 50, 51, 63, 69, 70, 81, 84, 94, 100]\n",
            "Primer cuartil Q1: 17.0\n",
            "Segundo cuartil Q2: 51.0\n",
            "Tercer cuartil Q3: 81.0\n"
          ]
        }
      ]
    },
    {
      "cell_type": "markdown",
      "source": [
        "**7º Coeficiente de Correlación**\n",
        "\n",
        "El coeficiente de correlación es una medida estadística que cuantifica la intensidad y dirección de la relación lineal entre dos variables. Se simboliza con la letra \"r\" y puede variar de -1 a +1.\n",
        "\n",
        "\n",
        "Interpretar el coeficiente de correlación:\n",
        "\n",
        "    r = +1: Correlación positiva perfecta. A medida que una variable aumenta, la otra también lo hace en una proporción constante.\n",
        "    r = -1: Correlación negativa perfecta. A medida que una variable aumenta, la otra disminuye en una proporción constante.\n",
        "    r = 0: No hay correlación lineal. Las variables no están relacionadas linealmente\n",
        "    r entre 0.5 y 1: Correlación positiva fuerte.\n",
        "    r entre 0.3 y 0.5: Correlación positiva moderada.\n",
        "    r entre 0.1 y 0.3: Correlación positiva débil.\n",
        "    r entre 0 y -0.1: Correlación inexistente.\n",
        "    r entre -0.1 y -0.3: Correlación negativa débil.\n",
        "    r entre -0.3 y -0.5: Correlación negativa moderada.\n",
        "    r entre -0.5 y -1: Correlación negativa fuerte\n",
        "  \n",
        "  Para calcularlo, se puede utilizar la fórmula del coeficiente de correlación de Pearson: (covarianza(X, Y)) / (desviación estándar(X) * desviación estándar(Y)).\n",
        "\n",
        "Pasos para calcular el coeficiente de correlación de Pearson:\n",
        "\n",
        "    Calcular la covarianza entre las variables X e Y: La covarianza mide cómo cambian las dos variables juntas.\n",
        "    Calcular la desviación estándar de X y Y: La desviación estándar mide la dispersión de cada variable alrededor de su media.\n",
        "    Dividir la covarianza entre el producto de las desviaciones estándar: Este resultado es el coeficiente de correlación.\n"
      ],
      "metadata": {
        "id": "mPY-zRgpbZye"
      }
    },
    {
      "cell_type": "code",
      "source": [
        "data1= [1, 6, 15, 17, 39, 45, 46, 51, 63, 65, 70, 81, 84, 98, 100]\n",
        "data2= [12, 15, 29, 31, 33, 35, 37, 38, 41, 43, 45, 47, 49, 51, 55]\n",
        "coef_corre= statistics.correlation(data1,data2)\n",
        "# redodearlo\n",
        "coef_corre= round(coef_corre,2)\n",
        "print(\"Coeficiente de correlación:\", coef_corre)"
      ],
      "metadata": {
        "colab": {
          "base_uri": "https://localhost:8080/"
        },
        "id": "KOH8_0D-gyh-",
        "outputId": "b47eddd6-4c4f-43f5-ff39-4c6ea4ae901e"
      },
      "execution_count": 54,
      "outputs": [
        {
          "output_type": "stream",
          "name": "stdout",
          "text": [
            "Coeficiente de correlación: 0.96\n"
          ]
        }
      ]
    }
  ]
}