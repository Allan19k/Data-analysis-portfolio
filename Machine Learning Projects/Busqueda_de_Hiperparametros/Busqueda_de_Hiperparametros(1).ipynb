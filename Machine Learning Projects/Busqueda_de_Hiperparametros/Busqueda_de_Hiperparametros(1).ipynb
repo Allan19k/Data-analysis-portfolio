{
  "nbformat": 4,
  "nbformat_minor": 0,
  "metadata": {
    "colab": {
      "provenance": []
    },
    "kernelspec": {
      "name": "python3",
      "display_name": "Python 3"
    },
    "language_info": {
      "name": "python"
    }
  },
  "cells": [
    {
      "cell_type": "code",
      "execution_count": null,
      "metadata": {
        "id": "5_paaXRX-VNr"
      },
      "outputs": [],
      "source": [
        "# importar el dataset load_wine\n",
        "from sklearn.datasets import load_wine\n",
        "wine_dataset = load_wine()"
      ]
    },
    {
      "cell_type": "code",
      "source": [
        "# Dividir el dataset en conjuntos de entrenamiento (80%) y prueba (20%)\n",
        "from sklearn.model_selection import train_test_split\n",
        "\n",
        "X_train, X_test, y_train, y_test = train_test_split(wine_dataset.data, wine_dataset.target, test_size=0.2, random_state=0)\n",
        "print(f\"Tamaño del conjunto de entrenamiento: {len(X_train)}\")\n",
        "print(f\"Tamaño del conjunto de prueba: {len(X_test)}\")\n"
      ],
      "metadata": {
        "colab": {
          "base_uri": "https://localhost:8080/"
        },
        "id": "_wYIAhXR-o0k",
        "outputId": "bc17d457-0524-457a-fb2e-44f9d2668d61",
        "collapsed": true
      },
      "execution_count": null,
      "outputs": [
        {
          "output_type": "stream",
          "name": "stdout",
          "text": [
            "Tamaño del conjunto de entrenamiento: 142\n",
            "Tamaño del conjunto de prueba: 36\n"
          ]
        }
      ]
    },
    {
      "cell_type": "code",
      "source": [
        "# Aplicar tecnica de estandarizacion de nuestra eleccion\n",
        "from sklearn.preprocessing import RobustScaler\n",
        "\n",
        "# Aplicar RobustScaler al conjunto de entrenamiento\n",
        "scaler = RobustScaler()\n",
        "X_train_scaled = scaler.fit_transform(X_train)\n",
        "\n",
        "# Aplicar la misma transformación al conjunto de prueba\n",
        "X_test_scaled = scaler.transform(X_test)\n",
        "\n",
        "print(f\"Tamaño del conjunto de entrenamiento escalado: {X_train_scaled.shape}\")\n",
        "print(f\"Tamaño del conjunto de prueba escalado: {X_test_scaled.shape}\")\n"
      ],
      "metadata": {
        "colab": {
          "base_uri": "https://localhost:8080/"
        },
        "id": "lrgjbQsb0-cu",
        "outputId": "a4019a17-3579-4368-94c0-d65bebfbd708"
      },
      "execution_count": null,
      "outputs": [
        {
          "output_type": "stream",
          "name": "stdout",
          "text": [
            "Tamaño del conjunto de entrenamiento escalado: (142, 13)\n",
            "Tamaño del conjunto de prueba escalado: (36, 13)\n"
          ]
        }
      ]
    },
    {
      "cell_type": "code",
      "source": [
        "# Crear una Multilayer Perceptron con 2 capas ocultas\n",
        "\n",
        "from sklearn.neural_network import MLPClassifier\n",
        "\n",
        "# Crear una MLP con dos capas ocultas\n",
        "mlp = MLPClassifier(hidden_layer_sizes=(10, 5), max_iter=1000, random_state=0)\n",
        "\n",
        "# Entrenar el modelo con los datos escalados\n",
        "mlp.fit(X_train_scaled, y_train)\n",
        "\n",
        "# Evaluar el modelo\n",
        "from sklearn.metrics import classification_report, accuracy_score\n",
        "\n",
        "y_pred = mlp.predict(X_test_scaled)\n",
        "print(classification_report(y_test, y_pred))\n",
        "print(f\"Precisión del modelo: {accuracy_score(y_test, y_pred)}\")\n"
      ],
      "metadata": {
        "colab": {
          "base_uri": "https://localhost:8080/"
        },
        "id": "WrsPznBC1sky",
        "outputId": "0887f94d-114b-4e0b-b92c-8501f480a033"
      },
      "execution_count": null,
      "outputs": [
        {
          "output_type": "stream",
          "name": "stdout",
          "text": [
            "              precision    recall  f1-score   support\n",
            "\n",
            "           0       1.00      1.00      1.00        14\n",
            "           1       1.00      1.00      1.00        16\n",
            "           2       1.00      1.00      1.00         6\n",
            "\n",
            "    accuracy                           1.00        36\n",
            "   macro avg       1.00      1.00      1.00        36\n",
            "weighted avg       1.00      1.00      1.00        36\n",
            "\n",
            "Precisión del modelo: 1.0\n"
          ]
        }
      ]
    },
    {
      "cell_type": "code",
      "source": [
        "# aplicar Grid search a esa base de datos con CV=5 considerando lo siguiente:\n",
        "# Tres combinaciones diferentes en el número de neuronas de las capas escondidas,\n",
        "# Tres opciones en las funciones de activación\n",
        "# Tres opciones en los optimizadores a utilizar.\n",
        "#Ademas desplegar el modelo que dio mejores resultados  y Poner en una variable el modelo que dio los mejores resultados\n",
        "\n",
        "from sklearn.model_selection import GridSearchCV\n",
        "\n",
        "# Definir los parámetros para el GridSearchCV\n",
        "param_grid = {\n",
        "    'hidden_layer_sizes': [(10, 5), (15, 8), (20, 10)],  # Tres combinaciones de neuronas\n",
        "    'activation': ['relu', 'tanh', 'logistic'],  # Tres funciones de activación\n",
        "    'solver': ['adam', 'sgd', 'lbfgs']  # Tres optimizadores\n",
        "}\n",
        "\n",
        "# Crear el objeto GridSearchCV\n",
        "grid_search = GridSearchCV(estimator=mlp, param_grid=param_grid, cv=5, scoring='accuracy')\n",
        "\n",
        "# Entrenar el modelo con GridSearchCV usando los datos escalados\n",
        "grid_search.fit(X_train_scaled, y_train)\n",
        "\n",
        "# Obtener el mejor modelo\n",
        "best_mlp = grid_search.best_estimator_\n",
        "\n",
        "# Evaluar el mejor modelo\n",
        "y_pred = best_mlp.predict(X_test_scaled)\n",
        "\n",
        "print(classification_report(y_test, y_pred))\n",
        "print(f\"Precisión del mejor modelo: {accuracy_score(y_test, y_pred)}\")\n",
        "\n",
        "# Guardar el mejor modelo en una variable\n",
        "best_model = best_mlp\n"
      ],
      "metadata": {
        "colab": {
          "base_uri": "https://localhost:8080/"
        },
        "id": "Hljz7T8e62sc",
        "outputId": "93c3e6de-087d-476e-f38b-60ef4b80fab7"
      },
      "execution_count": null,
      "outputs": [
        {
          "output_type": "stream",
          "name": "stderr",
          "text": [
            "/usr/local/lib/python3.11/dist-packages/sklearn/neural_network/_multilayer_perceptron.py:691: ConvergenceWarning: Stochastic Optimizer: Maximum iterations (1000) reached and the optimization hasn't converged yet.\n",
            "  warnings.warn(\n",
            "/usr/local/lib/python3.11/dist-packages/sklearn/neural_network/_multilayer_perceptron.py:691: ConvergenceWarning: Stochastic Optimizer: Maximum iterations (1000) reached and the optimization hasn't converged yet.\n",
            "  warnings.warn(\n",
            "/usr/local/lib/python3.11/dist-packages/sklearn/neural_network/_multilayer_perceptron.py:691: ConvergenceWarning: Stochastic Optimizer: Maximum iterations (1000) reached and the optimization hasn't converged yet.\n",
            "  warnings.warn(\n",
            "/usr/local/lib/python3.11/dist-packages/sklearn/neural_network/_multilayer_perceptron.py:691: ConvergenceWarning: Stochastic Optimizer: Maximum iterations (1000) reached and the optimization hasn't converged yet.\n",
            "  warnings.warn(\n",
            "/usr/local/lib/python3.11/dist-packages/sklearn/neural_network/_multilayer_perceptron.py:691: ConvergenceWarning: Stochastic Optimizer: Maximum iterations (1000) reached and the optimization hasn't converged yet.\n",
            "  warnings.warn(\n",
            "/usr/local/lib/python3.11/dist-packages/sklearn/neural_network/_multilayer_perceptron.py:691: ConvergenceWarning: Stochastic Optimizer: Maximum iterations (1000) reached and the optimization hasn't converged yet.\n",
            "  warnings.warn(\n",
            "/usr/local/lib/python3.11/dist-packages/sklearn/neural_network/_multilayer_perceptron.py:691: ConvergenceWarning: Stochastic Optimizer: Maximum iterations (1000) reached and the optimization hasn't converged yet.\n",
            "  warnings.warn(\n",
            "/usr/local/lib/python3.11/dist-packages/sklearn/neural_network/_multilayer_perceptron.py:691: ConvergenceWarning: Stochastic Optimizer: Maximum iterations (1000) reached and the optimization hasn't converged yet.\n",
            "  warnings.warn(\n",
            "/usr/local/lib/python3.11/dist-packages/sklearn/neural_network/_multilayer_perceptron.py:691: ConvergenceWarning: Stochastic Optimizer: Maximum iterations (1000) reached and the optimization hasn't converged yet.\n",
            "  warnings.warn(\n",
            "/usr/local/lib/python3.11/dist-packages/sklearn/neural_network/_multilayer_perceptron.py:691: ConvergenceWarning: Stochastic Optimizer: Maximum iterations (1000) reached and the optimization hasn't converged yet.\n",
            "  warnings.warn(\n",
            "/usr/local/lib/python3.11/dist-packages/sklearn/neural_network/_multilayer_perceptron.py:691: ConvergenceWarning: Stochastic Optimizer: Maximum iterations (1000) reached and the optimization hasn't converged yet.\n",
            "  warnings.warn(\n",
            "/usr/local/lib/python3.11/dist-packages/sklearn/neural_network/_multilayer_perceptron.py:691: ConvergenceWarning: Stochastic Optimizer: Maximum iterations (1000) reached and the optimization hasn't converged yet.\n",
            "  warnings.warn(\n",
            "/usr/local/lib/python3.11/dist-packages/sklearn/neural_network/_multilayer_perceptron.py:691: ConvergenceWarning: Stochastic Optimizer: Maximum iterations (1000) reached and the optimization hasn't converged yet.\n",
            "  warnings.warn(\n",
            "/usr/local/lib/python3.11/dist-packages/sklearn/neural_network/_multilayer_perceptron.py:691: ConvergenceWarning: Stochastic Optimizer: Maximum iterations (1000) reached and the optimization hasn't converged yet.\n",
            "  warnings.warn(\n",
            "/usr/local/lib/python3.11/dist-packages/sklearn/neural_network/_multilayer_perceptron.py:691: ConvergenceWarning: Stochastic Optimizer: Maximum iterations (1000) reached and the optimization hasn't converged yet.\n",
            "  warnings.warn(\n",
            "/usr/local/lib/python3.11/dist-packages/sklearn/neural_network/_multilayer_perceptron.py:691: ConvergenceWarning: Stochastic Optimizer: Maximum iterations (1000) reached and the optimization hasn't converged yet.\n",
            "  warnings.warn(\n",
            "/usr/local/lib/python3.11/dist-packages/sklearn/neural_network/_multilayer_perceptron.py:691: ConvergenceWarning: Stochastic Optimizer: Maximum iterations (1000) reached and the optimization hasn't converged yet.\n",
            "  warnings.warn(\n",
            "/usr/local/lib/python3.11/dist-packages/sklearn/neural_network/_multilayer_perceptron.py:691: ConvergenceWarning: Stochastic Optimizer: Maximum iterations (1000) reached and the optimization hasn't converged yet.\n",
            "  warnings.warn(\n",
            "/usr/local/lib/python3.11/dist-packages/sklearn/neural_network/_multilayer_perceptron.py:691: ConvergenceWarning: Stochastic Optimizer: Maximum iterations (1000) reached and the optimization hasn't converged yet.\n",
            "  warnings.warn(\n",
            "/usr/local/lib/python3.11/dist-packages/sklearn/neural_network/_multilayer_perceptron.py:691: ConvergenceWarning: Stochastic Optimizer: Maximum iterations (1000) reached and the optimization hasn't converged yet.\n",
            "  warnings.warn(\n",
            "/usr/local/lib/python3.11/dist-packages/sklearn/neural_network/_multilayer_perceptron.py:691: ConvergenceWarning: Stochastic Optimizer: Maximum iterations (1000) reached and the optimization hasn't converged yet.\n",
            "  warnings.warn(\n",
            "/usr/local/lib/python3.11/dist-packages/sklearn/neural_network/_multilayer_perceptron.py:691: ConvergenceWarning: Stochastic Optimizer: Maximum iterations (1000) reached and the optimization hasn't converged yet.\n",
            "  warnings.warn(\n",
            "/usr/local/lib/python3.11/dist-packages/sklearn/neural_network/_multilayer_perceptron.py:691: ConvergenceWarning: Stochastic Optimizer: Maximum iterations (1000) reached and the optimization hasn't converged yet.\n",
            "  warnings.warn(\n",
            "/usr/local/lib/python3.11/dist-packages/sklearn/neural_network/_multilayer_perceptron.py:691: ConvergenceWarning: Stochastic Optimizer: Maximum iterations (1000) reached and the optimization hasn't converged yet.\n",
            "  warnings.warn(\n",
            "/usr/local/lib/python3.11/dist-packages/sklearn/neural_network/_multilayer_perceptron.py:691: ConvergenceWarning: Stochastic Optimizer: Maximum iterations (1000) reached and the optimization hasn't converged yet.\n",
            "  warnings.warn(\n"
          ]
        },
        {
          "output_type": "stream",
          "name": "stdout",
          "text": [
            "              precision    recall  f1-score   support\n",
            "\n",
            "           0       1.00      1.00      1.00        14\n",
            "           1       1.00      1.00      1.00        16\n",
            "           2       1.00      1.00      1.00         6\n",
            "\n",
            "    accuracy                           1.00        36\n",
            "   macro avg       1.00      1.00      1.00        36\n",
            "weighted avg       1.00      1.00      1.00        36\n",
            "\n",
            "Precisión del mejor modelo: 1.0\n"
          ]
        }
      ]
    },
    {
      "cell_type": "code",
      "source": [
        "# tomar la particion de Test y probar ese modelo desplegando en la Matriz de confusion los resultados\n",
        "\n",
        "from sklearn.metrics import confusion_matrix\n",
        "import seaborn as sns\n",
        "import matplotlib.pyplot as plt\n",
        "\n",
        "# Obtener las predicciones del mejor modelo en el conjunto de prueba\n",
        "y_pred = best_model.predict(X_test_scaled)\n",
        "\n",
        "# Crear la matriz de confusión\n",
        "cm = confusion_matrix(y_test, y_pred)\n",
        "\n",
        "# Mostrar la matriz de confusión como un mapa de calor\n",
        "plt.figure(figsize=(8, 6))\n",
        "sns.heatmap(cm, annot=True, fmt=\"d\", cmap=\"Blues\",\n",
        "            xticklabels=wine_dataset.target_names,\n",
        "            yticklabels=wine_dataset.target_names)\n",
        "plt.xlabel(\"Predicciones\")\n",
        "plt.ylabel(\"Valores Reales\")\n",
        "plt.title(\"Matriz de Confusión\")\n",
        "plt.show()\n"
      ],
      "metadata": {
        "colab": {
          "base_uri": "https://localhost:8080/",
          "height": 564
        },
        "id": "p5mtsTO60S-A",
        "outputId": "c2fa24eb-0f8b-46c1-9518-4889927626e8"
      },
      "execution_count": null,
      "outputs": [
        {
          "output_type": "display_data",
          "data": {
            "text/plain": [
              "<Figure size 800x600 with 2 Axes>"
            ],
            "image/png": "[encoded data removed]"
          },
          "metadata": {}
        }
      ]
    },
    {
      "cell_type": "code",
      "source": [
        "# desplegar un reporte de resultados de esta base de datos en base a todo lo anterior\n",
        "\n",
        "# Imprimir un resumen de los resultados\n",
        "\n",
        "print(\"Resumen de Resultados:\")\n",
        "print(f\"Mejor modelo encontrado por GridSearchCV:\\n{best_model}\")\n",
        "print(f\"\\nPrecisión del mejor modelo: {accuracy_score(y_test, y_pred)}\")\n",
        "print(\"\\nMatriz de Confusión:\")\n",
        "print(cm) #Ya se muestra la matriz de confusión como un mapa de calor\n",
        "print(\"\\nReporte de Clasificación:\")\n",
        "print(classification_report(y_test, y_pred))\n"
      ],
      "metadata": {
        "colab": {
          "base_uri": "https://localhost:8080/"
        },
        "id": "LsPBscSN2B0I",
        "outputId": "f0651059-5749-4352-a07c-794dfd62701e"
      },
      "execution_count": null,
      "outputs": [
        {
          "output_type": "stream",
          "name": "stdout",
          "text": [
            "Resumen de Resultados:\n",
            "Mejor modelo encontrado por GridSearchCV:\n",
            "MLPClassifier(activation='tanh', hidden_layer_sizes=(20, 10), max_iter=1000,\n",
            "              random_state=0, solver='sgd')\n",
            "\n",
            "Precisión del mejor modelo: 1.0\n",
            "\n",
            "Matriz de Confusión:\n",
            "[[14  0  0]\n",
            " [ 0 16  0]\n",
            " [ 0  0  6]]\n",
            "\n",
            "Reporte de Clasificación:\n",
            "              precision    recall  f1-score   support\n",
            "\n",
            "           0       1.00      1.00      1.00        14\n",
            "           1       1.00      1.00      1.00        16\n",
            "           2       1.00      1.00      1.00         6\n",
            "\n",
            "    accuracy                           1.00        36\n",
            "   macro avg       1.00      1.00      1.00        36\n",
            "weighted avg       1.00      1.00      1.00        36\n",
            "\n"
          ]
        }
      ]
    },
    {
      "cell_type": "markdown",
      "source": [
        "Este experimento aplicado al conjunto de datos load_wine ha generado un modelo de red neuronal MLPClassifier altamente efectivo, ya que el mejor modelo obtenido a través de GridSearchCV logró una precisión perfecta 100% en el conjunto de prueba. La matriz de confusión muestra que cada categoría (0, 1 y 2) fue clasificada correctamente, sin ningún error, lo cual se refleja en los valores perfectos de precisión, recall y f1-score. Aunque obtener una precisión de 1.0 es muy alentador, es importante tener en cuenta que el conjunto de prueba era relativamente pequeño (36 muestras). Por ello, sería prudente validar el modelo con conjuntos de datos más amplios o mediante validación cruzada adicional para asegurar que el rendimiento se mantiene en escenarios más variados y evitar problemas de sobreajuste.\n",
        "\n",
        "\n",
        "\n",
        "Interpretación de los Resultados y Utilidad\n",
        "\n",
        "\n",
        "*   Separabilidad de las clases: Los resultados indican que las características empleadas para describir los vinos permiten distinguir de forma clara entre las diferentes clases. Esto es fundamental para aplicaciones en la industria, donde se requiere una categorización precisa de los productos.\n",
        "*   Aplicaciones prácticas:\n",
        "\n",
        "    Control de calidad: El modelo podría utilizarse para automatizar la verificación de la calidad y clasificación de vinos en bodegas y en procesos de producción.\n",
        "    \n",
        "    Optimización de procesos: Al identificar de forma exacta la categoría de cada vino, se pueden ajustar procesos de almacenamiento, distribución y comercialización.\n",
        "    \n",
        "    Soporte en investigación y marketing: Una clasificación fiable facilita estudios de mercado y análisis de características específicas que diferencian tipos de vino, ayudando a orientar estrategias comerciales y de posicionamiento\n",
        "\n",
        "\n",
        "\n"
      ],
      "metadata": {
        "id": "76Hy5FET4K6c"
      }
    }
  ]
}